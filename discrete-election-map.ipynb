!pip install --upgrade geopandas
!pip install --upgrade pyshp
!pip install --upgrade shapely
!pip install --upgrade descartes
!pip install plotly-geo
!pip install -c plotly plotly-geo
!pip install plotly-geo
!pip install plotly
from urllib.request import urlopen

import pandas as pd
import geopandas
import matplotlib.pyplot as plt
from plotly import graph_objects

import plotly.figure_factory as ff

import json
with urlopen('https://raw.githubusercontent.com/plotly/datasets/master/geojson-counties-fips.json') as response:
    counties = json.load(response)


import plotly.express as px

df = pd.read_csv('https://raw.githubusercontent.com/magnesium-nitrate/election-visuals-2016/master/genelc2016.csv',dtype={"FIPS":str})

for value, row in df.iterrows():
    review = df['FIPS'][value]
    
    #analysis = TextBlob(str(review))
    #yeet = analysis.sentiment
    if(len(review)==4):
      df.at[value,'FIPS'] = ("0"+review)

df2 = pd.DataFrame({'party':['republican'], 'winner':['Donald Trump'],'FIPS':[10345],'totalvotes':[32813],'candidatevotes':[20083]})
temp_df = {'party': "democrat", 'winner': 'Hillary Clinton','FIPS':10347,'totalvotes':31233,'candidatevotes':25023}


temp_df = {'party': 10, 'winner': 11, 'FIPS': 12,'totalvotes':123,'candidatevotes':1239}
#df = df2.append(temp_df, ignore_index=True)
print(df)

#df2.append(temp_df,ignore_index=True);
for value, row in df.iterrows():
    review = df['party'][value]
    
    #analysis = TextBlob(str(review))
    #yeet = analysis.sentiment
    if(review=='democrat'):
      if(df['totalvotes'][value]-df['candidatevotes'][value]>df['candidatevotes'][value]):
        temp = {"party":"republican","winner":"Donald Trump","FIPS":df['FIPS'][value],"totalvotes":df['totalvotes'][value],"candidatevotes":df['totalvotes'][value]-df['candidatevotes'][value]}
        #print(temp)
        df2 = df2.append(temp,ignore_index=True)
      else:
        temp = {"party":"democrat","winner":"Hillary Clinton","FIPS":df['FIPS'][value],"totalvotes":df['totalvotes'][value],"candidatevotes":df['candidatevotes'][value]}
        df2 = df2.append(temp,ignore_index=True)
        #print(df2)

df2.append({"party":"democrat","winner":"Hillary Clinton","FIPS":df['FIPS'][value],"totalvotes":df['totalvotes'][value],"candidatevotes":df['candidatevotes'][value]},ignore_index=True)
print(df2)
import plotly.express as px

#df = px.data.election()
#geojson = px.data.election_geojson()



colorscale = ["#0a91ff","#ff0a0a","#235432"]
values = df2['party'].astype(str).tolist()
fips = df2['FIPS'].astype(str).tolist()
fig = ff.create_choropleth(fips=fips,values=values,colorscale=colorscale,county_outline={'color': 'rgb(255,255,255)', 'width': 0.5})
fig.update_layout(margin={"r":0,"t":0,"l":0,"b":0})
fig.show()
